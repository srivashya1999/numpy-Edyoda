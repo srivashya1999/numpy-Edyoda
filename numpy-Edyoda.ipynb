{
 "cells": [
  {
   "cell_type": "code",
   "execution_count": 2,
   "id": "dd996e5a",
   "metadata": {},
   "outputs": [
    {
     "data": {
      "text/plain": [
       "array([0., 0., 0., 0., 0., 0., 0., 0., 0., 0.])"
      ]
     },
     "execution_count": 2,
     "metadata": {},
     "output_type": "execute_result"
    }
   ],
   "source": [
    "import numpy as np\n",
    "# create a null vector of size 10 butthe fifth value which is 1\n",
    "\n",
    "vector= np.zeros(10)\n",
    "vector[4]-1\n",
    "vector"
   ]
  },
  {
   "cell_type": "code",
   "execution_count": 3,
   "id": "cc2939d6",
   "metadata": {},
   "outputs": [
    {
     "data": {
      "text/plain": [
       "array([10, 11, 12, 13, 14, 15, 16, 17, 18, 19, 20, 21, 22, 23, 24, 25, 26,\n",
       "       27, 28, 29, 30, 31, 32, 33, 34, 35, 36, 37, 38, 39, 40, 41, 42, 43,\n",
       "       44, 45, 46, 47, 48, 49])"
      ]
     },
     "execution_count": 3,
     "metadata": {},
     "output_type": "execute_result"
    }
   ],
   "source": [
    "#create a vector with values ranging from 10 to 49\n",
    "\n",
    "r=np.arange(10,50)\n",
    "r"
   ]
  },
  {
   "cell_type": "code",
   "execution_count": 4,
   "id": "c655a85e",
   "metadata": {},
   "outputs": [
    {
     "data": {
      "text/plain": [
       "array([[0, 1, 2],\n",
       "       [3, 4, 5],\n",
       "       [6, 7, 8]])"
      ]
     },
     "execution_count": 4,
     "metadata": {},
     "output_type": "execute_result"
    }
   ],
   "source": [
    "#create a 3X3 matrix with values ranging from 0 to 8\n",
    "\n",
    "matrix=np.arange(9).reshape(3,3)\n",
    "matrix"
   ]
  },
  {
   "cell_type": "code",
   "execution_count": 7,
   "id": "e34b69f3",
   "metadata": {},
   "outputs": [
    {
     "name": "stdout",
     "output_type": "stream",
     "text": [
      "(array([0, 1, 4], dtype=int64),)\n"
     ]
    }
   ],
   "source": [
    "#Find indices of non-zeroes elements from given\n",
    "\n",
    "nonz=np.array([1,2,0,0,4,0])\n",
    "print(nonz.nonzero())"
   ]
  },
  {
   "cell_type": "code",
   "execution_count": 8,
   "id": "28c226bd",
   "metadata": {},
   "outputs": [
    {
     "name": "stdout",
     "output_type": "stream",
     "text": [
      "[[725 400  89 953 145 965  49 468  48 704]\n",
      " [129 264 148 999 665  26 929 588 152 369]\n",
      " [135 494 282  70 991 972 767 262  30 252]\n",
      " [575 889 519  95 855 878 186 980 658 633]\n",
      " [415 553 508  71 183 659 756 476 868 204]\n",
      " [961 675 230 278 148 652 116 474 996 625]\n",
      " [400 397  59 874 439 540 526 197 205 528]\n",
      " [805 118 145 209 816 242 161 930 285 307]\n",
      " [617 796 962 358 689 968 463 514 556 855]\n",
      " [834 495  42 951 136 412 576 222 857 555]]\n",
      "999\n",
      "26\n"
     ]
    }
   ],
   "source": [
    "#create a 10X10 array with random values and findmin and max\n",
    "m=np.random.randint(1,1000,(10,10))\n",
    "print(m)\n",
    "print(m.max())\n",
    "print(m.min())"
   ]
  },
  {
   "cell_type": "code",
   "execution_count": 9,
   "id": "75decb5b",
   "metadata": {},
   "outputs": [
    {
     "name": "stdout",
     "output_type": "stream",
     "text": [
      "[[72 83 80 12 22 47 89 51 97 48]\n",
      " [64 61 22 29 26 68 22 11 51 43]\n",
      " [62 37 10 43 52 38 19 61 89  9]]\n",
      "47.266666666666666\n"
     ]
    }
   ],
   "source": [
    "#create a random vector of size 30 and find the mean value\n",
    "mn=np.random.randint(0,100,(3,10))\n",
    "print(mn)\n",
    "print(mn.mean())"
   ]
  },
  {
   "cell_type": "code",
   "execution_count": null,
   "id": "cee54938",
   "metadata": {},
   "outputs": [],
   "source": []
  }
 ],
 "metadata": {
  "kernelspec": {
   "display_name": "Python 3 (ipykernel)",
   "language": "python",
   "name": "python3"
  },
  "language_info": {
   "codemirror_mode": {
    "name": "ipython",
    "version": 3
   },
   "file_extension": ".py",
   "mimetype": "text/x-python",
   "name": "python",
   "nbconvert_exporter": "python",
   "pygments_lexer": "ipython3",
   "version": "3.9.12"
  }
 },
 "nbformat": 4,
 "nbformat_minor": 5
}
